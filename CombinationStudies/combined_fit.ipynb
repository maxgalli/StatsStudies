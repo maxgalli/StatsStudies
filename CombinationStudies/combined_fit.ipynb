{
 "cells": [
  {
   "cell_type": "markdown",
   "metadata": {},
   "source": [
    "# Combined Fit\n",
    "\n",
    "Based on https://root.cern/doc/master/combinedFit_8C.html.\n",
    "\n",
    "RooFit documentation: https://root.cern/doc/master/combinedFit_8C.html\n",
    "\n",
    "The idea consists in having two datasets: one is generated from a model where we have both gaussian signal and exponential background, while the second consists in an exponential background only.\n",
    "The parameters that model the background are the same in both situtations, so we want to fit both of them simultaneously.\n"
   ]
  },
  {
   "cell_type": "code",
   "execution_count": 15,
   "metadata": {},
   "outputs": [],
   "source": [
    "import ROOT"
   ]
  },
  {
   "cell_type": "code",
   "execution_count": 16,
   "metadata": {},
   "outputs": [
    {
     "name": "stdout",
     "output_type": "stream",
     "text": [
      "[#0] WARNING:InputArguments -- The parameter 'sigma' with range [0, 10] of the RooGaussian 'gauss' exceeds the safe range of (0, inf). Advise to limit its range.\n"
     ]
    }
   ],
   "source": [
    "# Define variables\n",
    "m = ROOT.RooRealVar(\"mass\", \"mass\", 0, 200)\n",
    "mean = ROOT.RooRealVar(\"mean\", \"mean\", 90, 80, 120)\n",
    "sigma = ROOT.RooRealVar(\"sigma\", \"sigma\", 5, 0, 10)\n",
    "tau = ROOT.RooRealVar(\"tau\", \"tau\", -0.01, -1, 0)\n",
    "nsig = ROOT.RooRealVar(\"nsig\", \"number of signal events in signalRange\", 1000, 0.0, 10000)\n",
    "nbkg = ROOT.RooRealVar(\"nbkg\", \"number of background events in signalRange\", 100000, 0.0, 1000000)\n",
    "\n",
    "# Build PDFs\n",
    "gauss = ROOT.RooGaussian(\"gauss\", \"gauss\", m, mean, sigma)\n",
    "exp = ROOT.RooExponential(\"exp\", \"exp\", m, tau)\n",
    "model = ROOT.RooAddPdf(\"model\", \"sig + bkg\", ROOT.RooArgList(gauss, exp), ROOT.RooArgList(nsig, nbkg))"
   ]
  },
  {
   "cell_type": "code",
   "execution_count": 20,
   "metadata": {},
   "outputs": [],
   "source": [
    "data_model = model.generate(m, 100000)\n",
    "data_bkg = exp.generate(m, 10000)"
   ]
  },
  {
   "cell_type": "code",
   "execution_count": 21,
   "metadata": {},
   "outputs": [
    {
     "data": {
      "text/plain": [
       "<cppyy.gbl.RooPlot object at 0x55a779999da0>"
      ]
     },
     "execution_count": 21,
     "metadata": {},
     "output_type": "execute_result"
    },
    {
     "name": "stdout",
     "output_type": "stream",
     "text": [
      "[#1] INFO:Plotting -- RooPlot::updateFitRangeNorm: New event count of 10000 will supercede previous event count of 100000 for normalization of PDF projections\n"
     ]
    }
   ],
   "source": [
    "mass_frame = m.frame(ROOT.RooFit.Title(\"Mass\"))\n",
    "data_model.plotOn(mass_frame)\n",
    "model.plotOn(mass_frame)\n",
    "data_bkg.plotOn(mass_frame)\n",
    "exp.plotOn(mass_frame)"
   ]
  },
  {
   "cell_type": "code",
   "execution_count": 22,
   "metadata": {},
   "outputs": [
    {
     "data": {
      "image/png": "[encoded data removed]",
      "text/plain": [
       "<IPython.core.display.Image object>"
      ]
     },
     "metadata": {},
     "output_type": "display_data"
    }
   ],
   "source": [
    "c = ROOT.TCanvas(\"\", \"\")\n",
    "mass_frame.Draw()\n",
    "c.Draw()"
   ]
  },
  {
   "cell_type": "code",
   "execution_count": 23,
   "metadata": {},
   "outputs": [
    {
     "name": "stdout",
     "output_type": "stream",
     "text": [
      "[#1] INFO:Minization -- p.d.f. provides expected number of events, including extended term in likelihood.\n"
     ]
    }
   ],
   "source": [
    "data_model_nll = model.createNLL(data_model)\n",
    "data_bkg_nll = exp.createNLL(data_bkg)"
   ]
  },
  {
   "cell_type": "code",
   "execution_count": 24,
   "metadata": {},
   "outputs": [
    {
     "ename": "NotImplementedError",
     "evalue": "",
     "output_type": "error",
     "traceback": [
      "\u001b[0;31m---------------------------------------------------------------------------\u001b[0m",
      "\u001b[0;31mNotImplementedError\u001b[0m                       Traceback (most recent call last)",
      "\u001b[0;32m/tmp/ipykernel_12642/3641923549.py\u001b[0m in \u001b[0;36m<module>\u001b[0;34m\u001b[0m\n\u001b[0;32m----> 1\u001b[0;31m \u001b[0mminimizer\u001b[0m \u001b[0;34m=\u001b[0m \u001b[0mROOT\u001b[0m\u001b[0;34m.\u001b[0m\u001b[0mRooMinuit\u001b[0m\u001b[0;34m(\u001b[0m\u001b[0mdata_model_nll\u001b[0m \u001b[0;34m*\u001b[0m \u001b[0mdata_bkg_nll\u001b[0m\u001b[0;34m)\u001b[0m\u001b[0;34m\u001b[0m\u001b[0;34m\u001b[0m\u001b[0m\n\u001b[0m\u001b[1;32m      2\u001b[0m \u001b[0mminimizer\u001b[0m\u001b[0;34m.\u001b[0m\u001b[0mmigrad\u001b[0m\u001b[0;34m(\u001b[0m\u001b[0;34m)\u001b[0m\u001b[0;34m\u001b[0m\u001b[0;34m\u001b[0m\u001b[0m\n",
      "\u001b[0;31mNotImplementedError\u001b[0m: "
     ]
    }
   ],
   "source": [
    "#minimizer = ROOT.RooMinuit(data_model_nll * data_bkg_nll)\n",
    "minimizer = ROOT.RooMinuit(data_model_nll)\n",
    "minimizer.migrad()"
   ]
  },
  {
   "cell_type": "code",
   "execution_count": null,
   "metadata": {},
   "outputs": [],
   "source": []
  }
 ],
 "metadata": {
  "interpreter": {
   "hash": "977b4b0500dc0f1eeb396653a2d6a006779ae18ccfac5cdd518020df4f07322a"
  },
  "kernelspec": {
   "display_name": "Python 3.9.6 64-bit ('stats-studies': conda)",
   "language": "python",
   "name": "python3"
  },
  "language_info": {
   "codemirror_mode": {
    "name": "ipython",
    "version": 3
   },
   "file_extension": ".py",
   "mimetype": "text/x-python",
   "name": "python",
   "nbconvert_exporter": "python",
   "pygments_lexer": "ipython3",
   "version": "3.9.6"
  },
  "orig_nbformat": 4
 },
 "nbformat": 4,
 "nbformat_minor": 2
}
