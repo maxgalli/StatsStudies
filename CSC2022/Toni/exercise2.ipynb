{
 "cells": [
  {
   "cell_type": "code",
   "execution_count": 5,
   "id": "e4827787-4ca0-4f54-bcdd-d5472d75140f",
   "metadata": {},
   "outputs": [],
   "source": [
    "import numpy as np\n",
    "import pandas as pd\n",
    "import matplotlib.pyplot as plt"
   ]
  },
  {
   "cell_type": "markdown",
   "id": "f8b2d055-2730-4170-ac01-79a7ea6b688b",
   "metadata": {},
   "source": [
    "1"
   ]
  },
  {
   "cell_type": "code",
   "execution_count": 2,
   "id": "f2accaf3-e5c8-44a4-afe6-071fbfa61898",
   "metadata": {},
   "outputs": [],
   "source": [
    "data = np.loadtxt('decay.txt')"
   ]
  },
  {
   "cell_type": "code",
   "execution_count": 9,
   "id": "8b6e2eee-133e-440d-bc9f-b3feed742b90",
   "metadata": {},
   "outputs": [
    {
     "data": {
      "image/png": "[encoded data removed]",
      "text/plain": [
       "<Figure size 432x288 with 1 Axes>"
      ]
     },
     "metadata": {
      "needs_background": "light"
     },
     "output_type": "display_data"
    }
   ],
   "source": [
    "plt.hist(data);"
   ]
  },
  {
   "cell_type": "markdown",
   "id": "4ee5dc23-f13d-4b69-902a-05ddcc1b4793",
   "metadata": {},
   "source": [
    "2"
   ]
  },
  {
   "cell_type": "code",
   "execution_count": 27,
   "id": "e32d5ef9-1592-469a-9dc4-b7ef0203b22c",
   "metadata": {},
   "outputs": [
    {
     "data": {
      "image/png": "[encoded data removed]",
      "text/plain": [
       "<Figure size 432x288 with 1 Axes>"
      ]
     },
     "metadata": {
      "needs_background": "light"
     },
     "output_type": "display_data"
    }
   ],
   "source": [
    "from scipy.stats import expon\n",
    "\n",
    "tau = 2\n",
    "#frozen = expon(scale=tau)\n",
    "def expon_func(t, tau):\n",
    "    return (1/tau)*np.exp(-t/tau)\n",
    "limits = (0, 8)\n",
    "x = np.linspace(*limits, 100)\n",
    "#y = frozen.pdf(x)\n",
    "y = expon_func(x, tau)\n",
    "plt.plot(x, y);"
   ]
  },
  {
   "cell_type": "code",
   "execution_count": 29,
   "id": "e073c9fb-076b-4d0f-a77f-30851abc43a7",
   "metadata": {},
   "outputs": [],
   "source": [
    "from scipy.integrate import quad\n",
    "#res = quad(frozen.pdf, 0, 1)[0]\n",
    "res = quad(lambda x: expon_func(x, tau=tau), 0, 1)[0]"
   ]
  },
  {
   "cell_type": "markdown",
   "id": "82cac4c7-4b39-446c-a7e9-3c1cc2b76c57",
   "metadata": {},
   "source": [
    "3"
   ]
  },
  {
   "cell_type": "code",
   "execution_count": 17,
   "id": "d868ec7e-94db-4136-9bf3-8588c57eb6d5",
   "metadata": {},
   "outputs": [],
   "source": [
    "class Likelihood:\n",
    "    def __init__(self, function, data):\n",
    "        self.function = function \n",
    "        self.data = data\n",
    "\n",
    "    def __call__(self, *params):\n",
    "        return np.prod(self.function(self.data, *params))\n",
    "\n",
    "\n",
    "class NLL(Likelihood):\n",
    "    def __call__(self, *params):\n",
    "        return -np.sum([np.log(self.function(self.data, *params))])"
   ]
  },
  {
   "cell_type": "code",
   "execution_count": 80,
   "id": "417521ad-4ced-42f4-9878-7a65ea10f1d6",
   "metadata": {},
   "outputs": [
    {
     "name": "stderr",
     "output_type": "stream",
     "text": [
      "/var/folders/13/nbt0_qzj025_br3dxm0ph0sh0000gn/T/ipykernel_45611/1612609738.py:6: RuntimeWarning: divide by zero encountered in double_scalars\n",
      "  return (1/tau)*np.exp(-t/tau)\n",
      "/var/folders/13/nbt0_qzj025_br3dxm0ph0sh0000gn/T/ipykernel_45611/1612609738.py:6: RuntimeWarning: divide by zero encountered in true_divide\n",
      "  return (1/tau)*np.exp(-t/tau)\n",
      "/var/folders/13/nbt0_qzj025_br3dxm0ph0sh0000gn/T/ipykernel_45611/1612609738.py:6: RuntimeWarning: invalid value encountered in multiply\n",
      "  return (1/tau)*np.exp(-t/tau)\n"
     ]
    },
    {
     "data": {
      "image/png": "[encoded data removed]",
      "text/plain": [
       "<Figure size 432x288 with 1 Axes>"
      ]
     },
     "metadata": {
      "needs_background": "light"
     },
     "output_type": "display_data"
    }
   ],
   "source": [
    "d1 = np.asarray([1])\n",
    "#d1 = np.ones(100000)\n",
    "lk = Likelihood(expon_func, d1)\n",
    "#lk = Likelihood(expon.pdf, data)\n",
    "pois = np.linspace(*limits, 100)\n",
    "lk_values = [lk(poi) for poi in pois]\n",
    "plt.plot(pois, lk_values);"
   ]
  },
  {
   "cell_type": "code",
   "execution_count": 73,
   "id": "e9bbe916-c9a3-4383-a7ba-d4eed8cceeb8",
   "metadata": {},
   "outputs": [
    {
     "name": "stdout",
     "output_type": "stream",
     "text": [
      "0.05342686649359083\n"
     ]
    }
   ],
   "source": [
    "one = expon_func(1, 2)\n",
    "two = expon_func(0.5, 2)\n",
    "three = expon_func(0.2, 2)\n",
    "res = one*two*three\n",
    "print(res)"
   ]
  },
  {
   "cell_type": "code",
   "execution_count": 74,
   "id": "28a8cfe3-b6b5-4e64-a6f3-4b35839bbe72",
   "metadata": {},
   "outputs": [
    {
     "name": "stdout",
     "output_type": "stream",
     "text": [
      "0.05342686649359083\n"
     ]
    }
   ],
   "source": [
    "d_test = np.array([1, 0.5, 0.2])\n",
    "lk_test = Likelihood(expon_func, d_test)\n",
    "res_to_compare = lk_test(2)\n",
    "print(res_to_compare)"
   ]
  },
  {
   "cell_type": "code",
   "execution_count": 61,
   "id": "dbc25723-a0ce-4439-b894-5a1ca814ce45",
   "metadata": {},
   "outputs": [],
   "source": [
    "ff = expon_func(d_test, 2)"
   ]
  },
  {
   "cell_type": "code",
   "execution_count": null,
   "id": "f6e148ac-02c7-483c-939b-a60292419f18",
   "metadata": {},
   "outputs": [],
   "source": []
  },
  {
   "cell_type": "code",
   "execution_count": 57,
   "id": "1642ce54-03d3-48ff-9b40-18b385db1f2d",
   "metadata": {},
   "outputs": [
    {
     "data": {
      "text/plain": [
       "(0.3032653298563167, 0.38940039153570244, 0.45241870901797976)"
      ]
     },
     "execution_count": 57,
     "metadata": {},
     "output_type": "execute_result"
    }
   ],
   "source": [
    "one, two, three"
   ]
  },
  {
   "cell_type": "code",
   "execution_count": 58,
   "id": "942de1c7-d15d-4ef3-96bb-efa0447b37ea",
   "metadata": {},
   "outputs": [
    {
     "data": {
      "text/plain": [
       "0.11809163818525367"
      ]
     },
     "execution_count": 58,
     "metadata": {},
     "output_type": "execute_result"
    }
   ],
   "source": [
    "one*two"
   ]
  },
  {
   "cell_type": "code",
   "execution_count": 59,
   "id": "077dbb32-3262-41d1-abb9-d78c35ed3090",
   "metadata": {},
   "outputs": [
    {
     "data": {
      "text/plain": [
       "0.11809163818525367"
      ]
     },
     "execution_count": 59,
     "metadata": {},
     "output_type": "execute_result"
    }
   ],
   "source": [
    "np.prod([one, two])"
   ]
  },
  {
   "cell_type": "code",
   "execution_count": 64,
   "id": "2878c01e-b27c-4d33-a83a-e72b3f7b889a",
   "metadata": {},
   "outputs": [
    {
     "data": {
      "text/plain": [
       "0.021721742931305642"
      ]
     },
     "execution_count": 64,
     "metadata": {},
     "output_type": "execute_result"
    }
   ],
   "source": [
    "np.prod(ff)"
   ]
  },
  {
   "cell_type": "code",
   "execution_count": 66,
   "id": "45b00d62-7a13-40f4-8576-81f65f132d61",
   "metadata": {},
   "outputs": [
    {
     "data": {
      "text/plain": [
       "0.021721742931305642"
      ]
     },
     "execution_count": 66,
     "metadata": {},
     "output_type": "execute_result"
    }
   ],
   "source": [
    "ff[0]*ff[1]*ff[2]"
   ]
  },
  {
   "cell_type": "code",
   "execution_count": 67,
   "id": "693420da-205c-4811-94b1-f589c907ba8c",
   "metadata": {},
   "outputs": [
    {
     "data": {
      "text/plain": [
       "0.3032653298563167"
      ]
     },
     "execution_count": 67,
     "metadata": {},
     "output_type": "execute_result"
    }
   ],
   "source": [
    "ff[0]"
   ]
  },
  {
   "cell_type": "code",
   "execution_count": 68,
   "id": "f05a2267-8b4c-42cb-9763-2267f4deb594",
   "metadata": {},
   "outputs": [
    {
     "data": {
      "text/plain": [
       "0.3032653298563167"
      ]
     },
     "execution_count": 68,
     "metadata": {},
     "output_type": "execute_result"
    }
   ],
   "source": [
    "one"
   ]
  },
  {
   "cell_type": "code",
   "execution_count": 69,
   "id": "c0401ade-0197-4d75-aac9-4ac01767ad8c",
   "metadata": {},
   "outputs": [
    {
     "data": {
      "text/plain": [
       "0.38940039153570244"
      ]
     },
     "execution_count": 69,
     "metadata": {},
     "output_type": "execute_result"
    }
   ],
   "source": [
    "ff[1]"
   ]
  },
  {
   "cell_type": "code",
   "execution_count": 70,
   "id": "9038c6c7-0cfa-48d3-8e27-1355a5351290",
   "metadata": {},
   "outputs": [
    {
     "data": {
      "text/plain": [
       "0.38940039153570244"
      ]
     },
     "execution_count": 70,
     "metadata": {},
     "output_type": "execute_result"
    }
   ],
   "source": [
    "two"
   ]
  },
  {
   "cell_type": "code",
   "execution_count": 71,
   "id": "b4c3c34f-4495-477a-84e4-49347e0f58f4",
   "metadata": {},
   "outputs": [
    {
     "data": {
      "text/plain": [
       "0.18393972058572117"
      ]
     },
     "execution_count": 71,
     "metadata": {},
     "output_type": "execute_result"
    }
   ],
   "source": [
    "ff[2]"
   ]
  },
  {
   "cell_type": "code",
   "execution_count": 72,
   "id": "15a6a037-4b30-496a-ae11-affcd7aad3d4",
   "metadata": {},
   "outputs": [
    {
     "data": {
      "text/plain": [
       "0.45241870901797976"
      ]
     },
     "execution_count": 72,
     "metadata": {},
     "output_type": "execute_result"
    }
   ],
   "source": [
    "three"
   ]
  }
 ],
 "metadata": {
  "kernelspec": {
   "display_name": "Python 3 (ipykernel)",
   "language": "python",
   "name": "python3"
  },
  "language_info": {
   "codemirror_mode": {
    "name": "ipython",
    "version": 3
   },
   "file_extension": ".py",
   "mimetype": "text/x-python",
   "name": "python",
   "nbconvert_exporter": "python",
   "pygments_lexer": "ipython3",
   "version": "3.10.2"
  }
 },
 "nbformat": 4,
 "nbformat_minor": 5
}
