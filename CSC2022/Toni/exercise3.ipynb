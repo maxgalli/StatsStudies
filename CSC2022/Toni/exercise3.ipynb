{
 "cells": [
  {
   "cell_type": "code",
   "execution_count": 1,
   "id": "8ac7cbfe-3712-404c-9e43-5106b8be87c7",
   "metadata": {},
   "outputs": [],
   "source": [
    "import numpy as np\n",
    "from scipy.stats import expon\n",
    "import matplotlib.pyplot as plt\n",
    "from scipy.integrate import quad"
   ]
  },
  {
   "cell_type": "markdown",
   "id": "fae0cece-0913-411e-b7bb-a822a2a73fdb",
   "metadata": {},
   "source": [
    "1"
   ]
  },
  {
   "cell_type": "code",
   "execution_count": 14,
   "id": "241b5a65-4c2c-44ed-bddf-18b56a38e8a0",
   "metadata": {},
   "outputs": [],
   "source": [
    "# Define a bkg and bkg+signal model\n",
    "\n",
    "def expo_fun(m, alpha=2.5**-2):\n",
    "    return alpha*np.exp(-alpha*m)\n",
    "\n",
    "def full_model(m, alpha=2.5**-2, mu=200, sigma=4, f_sig=0.05):\n",
    "    return f_sig*(1/(sigma * np.sqrt(2 * np.pi)) * np.exp(-(m - mu)**2 / (2 * sigma**2))) + (1 - f_sig) * expo_fun(m, alpha)"
   ]
  },
  {
   "cell_type": "code",
   "execution_count": 3,
   "id": "e93d41c7-92e3-42f5-b083-3e18e2cd18ef",
   "metadata": {},
   "outputs": [
    {
     "data": {
      "image/png": "[encoded data removed]",
      "text/plain": [
       "<Figure size 432x288 with 1 Axes>"
      ]
     },
     "metadata": {
      "needs_background": "light"
     },
     "output_type": "display_data"
    }
   ],
   "source": [
    "x = np.linspace(0, 300, 100)\n",
    "y = expo_fun(x)\n",
    "y_sig = full_model(x)\n",
    "lims = (0, 400)\n",
    "plt.plot(x, y);\n",
    "plt.plot(x, y_sig);"
   ]
  },
  {
   "cell_type": "code",
   "execution_count": 4,
   "id": "d8be10c1-1edd-4880-9c20-debfe91ff640",
   "metadata": {},
   "outputs": [
    {
     "data": {
      "image/png": "[encoded data removed]",
      "text/plain": [
       "<Figure size 432x288 with 1 Axes>"
      ]
     },
     "metadata": {
      "needs_background": "light"
     },
     "output_type": "display_data"
    }
   ],
   "source": [
    "def generate_from_function(function, limits, N=10**6, *args):\n",
    "    x = np.random.uniform(*limits, N)\n",
    "    y = np.random.uniform(0.0, 1.0, N)\n",
    "    return x[(y < function(x, *args))]\n",
    "\n",
    "random_sample = generate_from_function(expo_fun, lims, 10**7, 2.5**-2)\n",
    "plt.hist(random_sample, bins=50, density=True);\n",
    "plt.plot(x, y);"
   ]
  },
  {
   "cell_type": "markdown",
   "id": "6dbcc8fe-07cd-4483-87e5-c6968f2a4f37",
   "metadata": {},
   "source": [
    "2"
   ]
  },
  {
   "cell_type": "code",
   "execution_count": 5,
   "id": "533bef75-809b-4f86-91f9-1f8fdadca7b6",
   "metadata": {},
   "outputs": [],
   "source": [
    "data = np.loadtxt('LHCData.txt')\n",
    "lims = (0, 400)\n",
    "nbins = 50"
   ]
  },
  {
   "cell_type": "code",
   "execution_count": 6,
   "id": "ccdaf980-fcdd-4c2a-bc7f-fd0221d77b27",
   "metadata": {},
   "outputs": [],
   "source": [
    "hist, edges = np.histogram(data, nbins, lims)\n",
    "centers = (edges[:-1] + edges[1:]) / 2"
   ]
  },
  {
   "cell_type": "code",
   "execution_count": 7,
   "id": "56400888-d82a-46b0-9da0-f25d11ad06a2",
   "metadata": {},
   "outputs": [
    {
     "data": {
      "image/png": "[encoded data removed]",
      "text/plain": [
       "<Figure size 432x288 with 1 Axes>"
      ]
     },
     "metadata": {
      "needs_background": "light"
     },
     "output_type": "display_data"
    }
   ],
   "source": [
    "plt.plot(centers, hist, 'ko');"
   ]
  },
  {
   "cell_type": "code",
   "execution_count": 20,
   "id": "a7f9b5b1-0376-495d-aa3f-e4dc79306bac",
   "metadata": {},
   "outputs": [],
   "source": [
    "def get_integrals(function, edges, *args):\n",
    "    return np.array([quad(lambda x: function(x, *args), left, right)[0] for left, right in zip(edges[:-1], edges[1:])])\n",
    "    \n",
    "def chi_square(pred, meas):\n",
    "    return np.sum((pred - meas)**2)\n",
    "\n",
    "def test_statistics(pred, meas):\n",
    "    return chi_square(pred, meas) / len(data)\n",
    "\n",
    "pred = len(data) * get_integrals(expo_fun, edges)\n",
    "t_obs = chi_square(pred, hist) / len(hist)"
   ]
  },
  {
   "cell_type": "code",
   "execution_count": 21,
   "id": "8252116f-f604-48cf-8697-e074ba7421eb",
   "metadata": {},
   "outputs": [
    {
     "data": {
      "text/plain": [
       "645443.3864359347"
      ]
     },
     "execution_count": 21,
     "metadata": {},
     "output_type": "execute_result"
    }
   ],
   "source": [
    "t_obs"
   ]
  },
  {
   "cell_type": "code",
   "execution_count": 12,
   "id": "a8c88f70-9228-45f0-93b5-2ba09e5a814d",
   "metadata": {},
   "outputs": [
    {
     "name": "stdout",
     "output_type": "stream",
     "text": [
      "CPU times: user 18.8 s, sys: 61.4 ms, total: 18.9 s\n",
      "Wall time: 18.9 s\n"
     ]
    }
   ],
   "source": [
    "%%time \n",
    "N_samples = 100\n",
    "test_statistics_values = []\n",
    "for i in range(N_samples):\n",
    "    sample = generate_from_function(expo_fun, lims, 10**7, 2.5**-2)\n",
    "    histogram, _ = np.histogram(sample, nbins, lims)\n",
    "    pred = len(data) * get_integrals(expo_fun, edges, 2.5**-2)\n",
    "    t = test_statistics(pred, histogram)\n",
    "    test_statistics_values.append(t)"
   ]
  },
  {
   "cell_type": "code",
   "execution_count": 15,
   "id": "5a03b63c-70ac-4b6d-9199-548aacaba615",
   "metadata": {},
   "outputs": [
    {
     "name": "stdout",
     "output_type": "stream",
     "text": [
      "CPU times: user 27.2 s, sys: 91.7 ms, total: 27.3 s\n",
      "Wall time: 27.3 s\n"
     ]
    }
   ],
   "source": [
    "%%time \n",
    "N_samples = 100\n",
    "test_statistics_values_alt = []\n",
    "for i in range(N_samples):\n",
    "    sample = generate_from_function(full_model, lims, 10**7)\n",
    "    histogram, _ = np.histogram(sample, nbins, lims)\n",
    "    pred = len(data) * get_integrals(full_model, edges)\n",
    "    t = test_statistics(pred, histogram)\n",
    "    test_statistics_values_alt.append(t)"
   ]
  },
  {
   "cell_type": "code",
   "execution_count": 22,
   "id": "0c12af42-311e-4cd3-a689-92d915b517ea",
   "metadata": {},
   "outputs": [
    {
     "data": {
      "image/png": "[encoded data removed]",
      "text/plain": [
       "<Figure size 432x288 with 1 Axes>"
      ]
     },
     "metadata": {
      "needs_background": "light"
     },
     "output_type": "display_data"
    }
   ],
   "source": [
    "plt.hist(test_statistics_values, label=\"H0\");\n",
    "plt.hist(test_statistics_values_alt, label=\"Halt\");\n",
    "plt.axvline(x=t, color=\"r\")\n",
    "plt.legend();"
   ]
  },
  {
   "cell_type": "code",
   "execution_count": null,
   "id": "e8bd8a51-b6e5-492e-8462-d3a19e5ae9f7",
   "metadata": {},
   "outputs": [],
   "source": []
  }
 ],
 "metadata": {
  "kernelspec": {
   "display_name": "Python 3 (ipykernel)",
   "language": "python",
   "name": "python3"
  },
  "language_info": {
   "codemirror_mode": {
    "name": "ipython",
    "version": 3
   },
   "file_extension": ".py",
   "mimetype": "text/x-python",
   "name": "python",
   "nbconvert_exporter": "python",
   "pygments_lexer": "ipython3",
   "version": "3.10.2"
  }
 },
 "nbformat": 4,
 "nbformat_minor": 5
}
