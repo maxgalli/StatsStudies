{
 "cells": [
  {
   "cell_type": "markdown",
   "metadata": {},
   "source": [
    "# $\\Psi(2S)$ Discovery with CMS OpenData"
   ]
  },
  {
   "cell_type": "markdown",
   "metadata": {},
   "source": [
    "This exercise uses the CMS public data from the 2010 proton-proton run. In particular, the invariant mass spectrum of muon pairs from data is provided. The purpose of the session is to approach the discovery of a \"new\" particle in the context of the observation of the ψ(2S) resonance in the CMS data.\n",
    "\n",
    "This is what the distribution of the dimuon invariant mass spectrum looks like with about 2% of the total 2010 statistics:\n",
    "\n",
    "<img src=\"images/Exercise0_data.png\" alt=\"data_lowstat\" width=\"500\"/>"
   ]
  },
  {
   "cell_type": "markdown",
   "metadata": {},
   "source": []
  }
 ],
 "metadata": {
  "kernelspec": {
   "display_name": "Python 3.9.6 ('stats-studies')",
   "language": "python",
   "name": "python3"
  },
  "language_info": {
   "name": "python",
   "version": "3.9.6"
  },
  "orig_nbformat": 4,
  "vscode": {
   "interpreter": {
    "hash": "977b4b0500dc0f1eeb396653a2d6a006779ae18ccfac5cdd518020df4f07322a"
   }
  }
 },
 "nbformat": 4,
 "nbformat_minor": 2
}
