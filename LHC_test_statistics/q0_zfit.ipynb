{
 "cells": [
  {
   "cell_type": "code",
   "execution_count": 1,
   "id": "6e70294d-de22-49a0-a3f2-e2157bb45a25",
   "metadata": {},
   "outputs": [
    {
     "name": "stderr",
     "output_type": "stream",
     "text": [
      "/home/massimiliano/python-devel/anaconda3/envs/stats-studies/lib/python3.9/site-packages/zfit/__init__.py:37: UserWarning: TensorFlow warnings are by default suppressed by zfit. In order to show them, set the environment variable ZFIT_DISABLE_TF_WARNINGS=0. In order to suppress the TensorFlow warnings AND this warning, set ZFIT_DISABLE_TF_WARNINGS=1.\n",
      "  warnings.warn(\"TensorFlow warnings are by default suppressed by zfit.\"\n",
      "/home/massimiliano/python-devel/anaconda3/envs/stats-studies/lib/python3.9/site-packages/uproot/reading.py:186: FutureWarning: XRootD 5.1.1 is not fully supported; either upgrade to 5.2.0+ or set\n",
      "\n",
      "    open.defaults[\"xrootd_handler\"] = uproot.MultithreadedXRootDSource\n",
      "\n",
      "  warnings.warn(message, FutureWarning)\n"
     ]
    }
   ],
   "source": [
    "import zfit\n",
    "import matplotlib.pyplot as plt\n",
    "import numpy as np\n",
    "from hepstats.hypotests.parameters import POI\n",
    "from hepstats.hypotests.calculators import AsymptoticCalculator, FrequentistCalculator\n",
    "from hepstats.hypotests import Discovery"
   ]
  },
  {
   "cell_type": "code",
   "execution_count": 2,
   "id": "9c829191-aa3a-42a1-b2c1-15fdcee746b3",
   "metadata": {},
   "outputs": [],
   "source": [
    "limits = (0, 300)\n",
    "\n",
    "mu_true = 125\n",
    "sigma_true = 0.6\n",
    "tau_true = 0.01\n",
    "frac_true = 0.0005\n",
    "\n",
    "n_bkg = 1000000\n",
    "n_sig = frac_true * n_bkg\n",
    "\n",
    "data_sig = np.random.normal(loc=mu_true, scale=sigma_true, size=int(n_sig))\n",
    "data_bkg = np.random.exponential(scale=1/tau_true, size=n_bkg)\n",
    "data_n = np.concatenate([data_sig, data_bkg], axis=0)"
   ]
  },
  {
   "cell_type": "code",
   "execution_count": 3,
   "id": "c2432bda-5af1-4ff5-aeee-c4159ee2c83b",
   "metadata": {},
   "outputs": [
    {
     "data": {
      "image/png": "[encoded data removed]",
      "text/plain": [
       "<Figure size 432x288 with 1 Axes>"
      ]
     },
     "metadata": {
      "needs_background": "light"
     },
     "output_type": "display_data"
    }
   ],
   "source": [
    "fig, ax = plt.subplots()\n",
    "ax.hist(data_n, range=limits, bins=500)\n",
    "plt.show()"
   ]
  },
  {
   "cell_type": "code",
   "execution_count": 4,
   "id": "3c3997f4-c2bd-499a-afd7-0015b0eaa944",
   "metadata": {},
   "outputs": [],
   "source": [
    "obs = zfit.Space(\"mass\", limits=limits)\n",
    "\n",
    "mu = zfit.Parameter(\"mu\", mu_true, mu_true - mu_true * 0.1, mu_true + mu_true * 0.1)\n",
    "sigma = zfit.Parameter(\"sigma\", sigma_true, sigma_true - sigma_true * 0.3, sigma_true + sigma_true * 0.3)\n",
    "tau = zfit.Parameter(\"tau\", -tau_true, -0.1, -0.00001)\n",
    "frac = zfit.Parameter(\"frac\", frac_true, 0, 1)\n",
    "\n",
    "gauss = zfit.pdf.Gauss(mu=mu, sigma=sigma, obs=obs)\n",
    "exponential = zfit.pdf.Exponential(tau, obs=obs)\n",
    "model = zfit.pdf.SumPDF([gauss, exponential], fracs=frac)"
   ]
  },
  {
   "cell_type": "code",
   "execution_count": 5,
   "id": "fe194df4-adaf-4bc5-87fe-2aa7545cb084",
   "metadata": {},
   "outputs": [],
   "source": [
    "data = zfit.Data.from_numpy(obs=obs, array=data_n)"
   ]
  },
  {
   "cell_type": "code",
   "execution_count": 6,
   "id": "4c5f38e7-dfd9-4fbc-a927-105468632159",
   "metadata": {},
   "outputs": [
    {
     "name": "stdout",
     "output_type": "stream",
     "text": [
      "FitResult of\n",
      "<UnbinnedNLL model=[<zfit.<class 'zfit.models.functor.SumPDF'>  params=[Composed_autoparam_0, frac]] data=[<zfit.core.data.Data object at 0x7f537bcd43a0>] constraints=[]> \n",
      "with\n",
      "<Minuit Minuit tol=0.001>\n",
      "\n",
      "╒═════════╤═════════════╤══════════════════╤═════════╤═════════════╕\n",
      "│ valid   │ converged   │ param at limit   │ edm     │ min value   │\n",
      "╞═════════╪═════════════╪══════════════════╪═════════╪═════════════╡\n",
      "│ True    │ True        │ False            │ 0.00057 │ 998.2       │\n",
      "╘═════════╧═════════════╧══════════════════╧═════════╧═════════════╛\n",
      "\n",
      "Parameters\n",
      "name        value    at limit\n",
      "------  ---------  ----------\n",
      "frac    0.0005833       False\n",
      "mu          124.8       False\n",
      "sigma      0.6991       False\n",
      "tau      -0.01002       False\n"
     ]
    }
   ],
   "source": [
    "nll = zfit.loss.UnbinnedNLL(model=model, data=data)\n",
    "minimizer = zfit.minimize.Minuit()\n",
    "result = minimizer.minimize(nll)\n",
    "print(result)"
   ]
  },
  {
   "cell_type": "code",
   "execution_count": 7,
   "id": "a8c356c2-6c95-40bb-b57d-f8dad7bf0d3c",
   "metadata": {},
   "outputs": [
    {
     "name": "stderr",
     "output_type": "stream",
     "text": [
      "/home/massimiliano/python-devel/anaconda3/envs/stats-studies/lib/python3.9/site-packages/zfit/minimizers/fitresult.py:1097: FutureWarning: 'minuit_minos' will be changed as the default errors method to a custom implementationwith the same functionality. If you want to make sure that 'minuit_minos' will be used in the future, add it explicitly as in `errors(method='minuit_minos')`\n",
      "  warnings.warn(\"'minuit_minos' will be changed as the default errors method to a custom implementation\"\n"
     ]
    },
    {
     "name": "stdout",
     "output_type": "stream",
     "text": [
      "name        value    minuit_hesse         minuit_minos    at limit\n",
      "------  ---------  --------------  -------------------  ----------\n",
      "frac    0.0005833     +/- 0.00011  -0.00011   +0.00012       False\n",
      "mu          124.8     +/-    0.16  -   0.16   +   0.15       False\n",
      "sigma      0.6991     +/-    0.15  -   0.14   +  0.081       False\n",
      "tau      -0.01002     +/- 1.4e-05  -1.5e-05   +1.4e-05       False\n",
      "CPU times: user 52 s, sys: 1.53 s, total: 53.5 s\n",
      "Wall time: 11.6 s\n"
     ]
    }
   ],
   "source": [
    "%%time\n",
    "\n",
    "param_hesse = result.hesse() \n",
    "param_errors, new_result = result.errors()\n",
    "print(result.params)"
   ]
  },
  {
   "cell_type": "code",
   "execution_count": 8,
   "id": "0732cd70-dbd1-44e5-be3c-d63e3561301c",
   "metadata": {},
   "outputs": [
    {
     "data": {
      "image/png": "[encoded data removed]",
      "text/plain": [
       "<Figure size 432x288 with 1 Axes>"
      ]
     },
     "metadata": {
      "needs_background": "light"
     },
     "output_type": "display_data"
    }
   ],
   "source": [
    "fig, ax = plt.subplots()\n",
    "nbins=500\n",
    "x = np.linspace(*limits, nbins)\n",
    "base = (limits[1] - limits[0]) / nbins\n",
    "histo, _ = np.histogram(data_n, nbins, limits)\n",
    "plot_scale = np.sum(histo*base)\n",
    "full = plot_scale * model.pdf(x, norm_range=limits).numpy()\n",
    "ax.hist(data_n, range=limits, bins=nbins)\n",
    "ax.plot(x, full)\n",
    "plt.show()"
   ]
  },
  {
   "cell_type": "code",
   "execution_count": 9,
   "id": "a017a5e9-fcd3-4185-8b92-8392222ca2a0",
   "metadata": {},
   "outputs": [],
   "source": [
    "frac_POI = POI(frac, 0)"
   ]
  },
  {
   "cell_type": "code",
   "execution_count": 10,
   "id": "736d4648-144f-4c7f-8006-3a7bb73115f6",
   "metadata": {},
   "outputs": [],
   "source": [
    "as_calculator = AsymptoticCalculator(input=result, minimizer=minimizer)"
   ]
  },
  {
   "cell_type": "code",
   "execution_count": 11,
   "id": "950cabcf-e778-48e9-ab15-5ecea7360820",
   "metadata": {},
   "outputs": [],
   "source": [
    "fr_calculator = FrequentistCalculator(input=result, minimizer=minimizer)"
   ]
  },
  {
   "cell_type": "code",
   "execution_count": 12,
   "id": "daf0ba69-feaa-4f5b-acb7-5d36d7dcd05a",
   "metadata": {},
   "outputs": [],
   "source": [
    "discovery_as = Discovery(calculator=as_calculator, poinull=frac_POI)"
   ]
  },
  {
   "cell_type": "code",
   "execution_count": 13,
   "id": "c046171b-2154-41ef-bd5b-b2bb65ba41e1",
   "metadata": {},
   "outputs": [
    {
     "name": "stdout",
     "output_type": "stream",
     "text": [
      "\n",
      "p_value for the Null hypothesis = 5.474776187952557e-11\n",
      "Significance (in units of sigma) = 6.453223727818812\n"
     ]
    },
    {
     "data": {
      "text/plain": [
       "(5.474776187952557e-11, 6.453223727818812)"
      ]
     },
     "execution_count": 13,
     "metadata": {},
     "output_type": "execute_result"
    }
   ],
   "source": [
    "discovery_as.result()"
   ]
  }
 ],
 "metadata": {
  "kernelspec": {
   "display_name": "Python 3",
   "language": "python",
   "name": "python3"
  },
  "language_info": {
   "codemirror_mode": {
    "name": "ipython",
    "version": 3
   },
   "file_extension": ".py",
   "mimetype": "text/x-python",
   "name": "python",
   "nbconvert_exporter": "python",
   "pygments_lexer": "ipython3",
   "version": "3.9.4"
  }
 },
 "nbformat": 4,
 "nbformat_minor": 5
}
