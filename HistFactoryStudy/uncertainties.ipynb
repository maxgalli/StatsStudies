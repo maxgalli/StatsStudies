{
 "cells": [
  {
   "cell_type": "code",
   "execution_count": 1,
   "id": "f3db2b00-29a4-4daa-b7b1-5d480d2f6027",
   "metadata": {},
   "outputs": [],
   "source": [
    "import numpy as np\n",
    "from scipy.stats import poisson\n",
    "import ipywidgets as widgets"
   ]
  },
  {
   "cell_type": "code",
   "execution_count": 13,
   "id": "01de9407-bb04-4608-a49e-c4f2bb1fe2b3",
   "metadata": {},
   "outputs": [],
   "source": [
    "def interpolate0(alpha, nom, up, down):\n",
    "    if alpha >= 0:\n",
    "        return 1 + alpha * (up - nom)\n",
    "    else:\n",
    "        return 1 - alpha * (down - nom)"
   ]
  },
  {
   "cell_type": "code",
   "execution_count": 3,
   "id": "7c42f897-6b3f-4a04-a9f9-c4a46cc7610e",
   "metadata": {},
   "outputs": [],
   "source": [
    "data = [20, 30]\n",
    "signal = [5, 10]"
   ]
  },
  {
   "cell_type": "code",
   "execution_count": 4,
   "id": "14d3cd7f-e2f0-4caf-b0bf-c2f64b8ac39b",
   "metadata": {},
   "outputs": [
    {
     "data": {
      "text/plain": [
       "0.36787944117144233"
      ]
     },
     "execution_count": 4,
     "metadata": {},
     "output_type": "execute_result"
    }
   ],
   "source": [
    "# Unconstrained normalization (normfactor)\n",
    "\n",
    "poisson.pmf(0, 1)"
   ]
  },
  {
   "cell_type": "code",
   "execution_count": 16,
   "id": "7f69bf0e-1e95-43e4-b8a4-ca2db3dc83f1",
   "metadata": {},
   "outputs": [
    {
     "data": {
      "application/vnd.jupyter.widget-view+json": {
       "model_id": "e20f62c67c084baa8e5cf6429cd070e8",
       "version_major": 2,
       "version_minor": 0
      },
      "text/plain": [
       "interactive(children=(FloatSlider(value=0.0, description='normsys', max=1.0, min=-1.0), Output()), _dom_classe…"
      ]
     },
     "metadata": {},
     "output_type": "display_data"
    }
   ],
   "source": [
    "# Constrained normalization (normsys)\n",
    "\n",
    "uncs = {\"hi\": 0.9, \"lo\": 1.1}\n",
    "\n",
    "@widgets.interact(normsys=(-1, 1, 0.1))\n",
    "def interact(normsys=0):\n",
    "    print(\"normsys = {}: {}\".format(normsys, [s * interpolate0(normsys, 1, uncs[\"hi\"], uncs[\"lo\"]) for s in signal]))"
   ]
  },
  {
   "cell_type": "code",
   "execution_count": null,
   "id": "c99de648-a03e-417b-b224-fa5c67804497",
   "metadata": {},
   "outputs": [],
   "source": []
  }
 ],
 "metadata": {
  "kernelspec": {
   "display_name": "Python 3 (ipykernel)",
   "language": "python",
   "name": "python3"
  },
  "language_info": {
   "codemirror_mode": {
    "name": "ipython",
    "version": 3
   },
   "file_extension": ".py",
   "mimetype": "text/x-python",
   "name": "python",
   "nbconvert_exporter": "python",
   "pygments_lexer": "ipython3",
   "version": "3.9.6"
  }
 },
 "nbformat": 4,
 "nbformat_minor": 5
}
