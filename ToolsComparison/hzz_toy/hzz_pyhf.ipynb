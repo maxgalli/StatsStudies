{
 "cells": [
  {
   "cell_type": "code",
   "execution_count": 13,
   "id": "776188d4-f806-4b54-b55d-bb3f04535f2b",
   "metadata": {},
   "outputs": [],
   "source": [
    "import pyhf\n",
    "import json"
   ]
  },
  {
   "cell_type": "code",
   "execution_count": 14,
   "id": "7aded29d-bad9-42b5-a45c-1243de1d7038",
   "metadata": {},
   "outputs": [],
   "source": [
    "spec = json.load(open(\"hzz.json\"))"
   ]
  },
  {
   "cell_type": "code",
   "execution_count": 15,
   "id": "7143ee91-4637-46a3-80ed-53213186ccbd",
   "metadata": {},
   "outputs": [],
   "source": [
    "workspace = pyhf.Workspace(spec)"
   ]
  },
  {
   "cell_type": "code",
   "execution_count": 16,
   "id": "d0c70cf1-aafe-4fcd-bcd6-b0fdb9c1a266",
   "metadata": {},
   "outputs": [],
   "source": [
    "model = workspace.model()"
   ]
  },
  {
   "cell_type": "code",
   "execution_count": 22,
   "id": "13a53009-60c9-4d0a-bcb6-061a982e17b8",
   "metadata": {},
   "outputs": [
    {
     "name": "stdout",
     "output_type": "stream",
     "text": [
      "  channels: ['bin2e2m', 'bin4e', 'bin4m']\n",
      "     nbins: {'bin2e2m': 1, 'bin4e': 1, 'bin4m': 1}\n",
      "   samples: ['h125', 'zx', 'zz']\n",
      " modifiers: [('h125_rate_2e2m', 'normsys'), ('h125_rate_4e', 'normsys'), ('h125_rate_4m', 'normsys'), ('r', 'normfactor'), ('zx_rate_2e2m', 'normsys'), ('zx_rate_4e', 'normsys'), ('zx_rate_4m', 'normsys'), ('zz_rate_2e2m', 'normsys'), ('zz_rate_4e', 'normsys'), ('zz_rate_4m', 'normsys')]\n",
      "parameters: ['h125_rate_2e2m', 'h125_rate_4e', 'h125_rate_4m', 'r', 'zx_rate_2e2m', 'zx_rate_4e', 'zx_rate_4m', 'zz_rate_2e2m', 'zz_rate_4e', 'zz_rate_4m']\n",
      "  nauxdata: 9\n",
      "   auxdata: [0.0, 0.0, 0.0, 0.0, 0.0, 0.0, 0.0, 0.0, 0.0]\n"
     ]
    }
   ],
   "source": [
    "print(f\"  channels: {model.config.channels}\")\n",
    "print(f\"     nbins: {model.config.channel_nbins}\")\n",
    "print(f\"   samples: {model.config.samples}\")\n",
    "print(f\" modifiers: {model.config.modifiers}\")\n",
    "print(f\"parameters: {model.config.parameters}\")\n",
    "print(f\"  nauxdata: {model.config.nauxdata}\")\n",
    "print(f\"   auxdata: {model.config.auxdata}\")"
   ]
  },
  {
   "cell_type": "code",
   "execution_count": 35,
   "id": "ef079d89-e42e-417a-96e6-de13f1ef95f2",
   "metadata": {},
   "outputs": [],
   "source": [
    "observations = [ob[0] for ob in list(workspace.observations.values())] + model.config.auxdata"
   ]
  },
  {
   "cell_type": "code",
   "execution_count": 28,
   "id": "de29fb75-adb1-4598-967e-0fc9715c9860",
   "metadata": {},
   "outputs": [],
   "source": [
    "init_pars = model.config.suggested_init()"
   ]
  },
  {
   "cell_type": "code",
   "execution_count": 38,
   "id": "7ae4c149-84ef-4c0d-a2f3-db641c669bb4",
   "metadata": {},
   "outputs": [
    {
     "data": {
      "text/plain": [
       "array([-0.53238581,  0.91528429, -0.11908648, -0.16717439,  0.59153986,\n",
       "        0.15754878,  0.31391559, -0.05029917, -0.01590324, -0.00462364])"
      ]
     },
     "execution_count": 38,
     "metadata": {},
     "output_type": "execute_result"
    }
   ],
   "source": [
    "pyhf.infer.mle.fit(data=observations, pdf=model)"
   ]
  },
  {
   "cell_type": "code",
   "execution_count": 37,
   "id": "650c6677-03d1-4f67-ae5e-02dcb20df626",
   "metadata": {},
   "outputs": [
    {
     "data": {
      "text/plain": [
       "\u001b[0;31mSignature:\u001b[0m\n",
       "\u001b[0mpyhf\u001b[0m\u001b[0;34m.\u001b[0m\u001b[0minfer\u001b[0m\u001b[0;34m.\u001b[0m\u001b[0mmle\u001b[0m\u001b[0;34m.\u001b[0m\u001b[0mfit\u001b[0m\u001b[0;34m(\u001b[0m\u001b[0;34m\u001b[0m\n",
       "\u001b[0;34m\u001b[0m    \u001b[0mdata\u001b[0m\u001b[0;34m,\u001b[0m\u001b[0;34m\u001b[0m\n",
       "\u001b[0;34m\u001b[0m    \u001b[0mpdf\u001b[0m\u001b[0;34m,\u001b[0m\u001b[0;34m\u001b[0m\n",
       "\u001b[0;34m\u001b[0m    \u001b[0minit_pars\u001b[0m\u001b[0;34m=\u001b[0m\u001b[0;32mNone\u001b[0m\u001b[0;34m,\u001b[0m\u001b[0;34m\u001b[0m\n",
       "\u001b[0;34m\u001b[0m    \u001b[0mpar_bounds\u001b[0m\u001b[0;34m=\u001b[0m\u001b[0;32mNone\u001b[0m\u001b[0;34m,\u001b[0m\u001b[0;34m\u001b[0m\n",
       "\u001b[0;34m\u001b[0m    \u001b[0mfixed_params\u001b[0m\u001b[0;34m=\u001b[0m\u001b[0;32mNone\u001b[0m\u001b[0;34m,\u001b[0m\u001b[0;34m\u001b[0m\n",
       "\u001b[0;34m\u001b[0m    \u001b[0;34m**\u001b[0m\u001b[0mkwargs\u001b[0m\u001b[0;34m,\u001b[0m\u001b[0;34m\u001b[0m\n",
       "\u001b[0;34m\u001b[0m\u001b[0;34m)\u001b[0m\u001b[0;34m\u001b[0m\u001b[0;34m\u001b[0m\u001b[0m\n",
       "\u001b[0;31mDocstring:\u001b[0m\n",
       "Run a maximum likelihood fit.\n",
       "This is done by minimizing the objective function :func:`~pyhf.infer.mle.twice_nll`\n",
       "of the model parameters given the observed data.\n",
       "This is used to produce the maximal likelihood :math:`L\\left(\\hat{\\mu}, \\hat{\\boldsymbol{\\theta}}\\right)`\n",
       "in the profile likelihood ratio in Equation (7) in :xref:`arXiv:1007.1727`\n",
       "\n",
       ".. math::\n",
       "\n",
       "   \\lambda\\left(\\mu\\right) = \\frac{L\\left(\\mu, \\hat{\\hat{\\boldsymbol{\\theta}}}\\right)}{L\\left(\\hat{\\mu}, \\hat{\\boldsymbol{\\theta}}\\right)}\n",
       "\n",
       "\n",
       ".. note::\n",
       "\n",
       "    :func:`twice_nll` is the objective function given to the optimizer and\n",
       "    is returned evaluated at the best fit model parameters when the optional\n",
       "    kwarg ``return_fitted_val`` is ``True``.\n",
       "\n",
       "Example:\n",
       "    >>> import pyhf\n",
       "    >>> pyhf.set_backend(\"numpy\")\n",
       "    >>> model = pyhf.simplemodels.uncorrelated_background(\n",
       "    ...     signal=[12.0, 11.0], bkg=[50.0, 52.0], bkg_uncertainty=[3.0, 7.0]\n",
       "    ... )\n",
       "    >>> observations = [51, 48]\n",
       "    >>> data = pyhf.tensorlib.astensor(observations + model.config.auxdata)\n",
       "    >>> bestfit_pars, twice_nll = pyhf.infer.mle.fit(data, model, return_fitted_val=True)\n",
       "    >>> bestfit_pars\n",
       "    array([0.        , 1.0030512 , 0.96266961])\n",
       "    >>> twice_nll\n",
       "    array(24.98393521)\n",
       "    >>> -2 * model.logpdf(bestfit_pars, data) == twice_nll\n",
       "    array([ True])\n",
       "\n",
       "Args:\n",
       "    data (:obj:`tensor`): The data\n",
       "    pdf (~pyhf.pdf.Model): The statistical model adhering to the schema model.json\n",
       "    init_pars (:obj:`list` of :obj:`float`): The starting values of the model parameters for minimization.\n",
       "    par_bounds (:obj:`list` of :obj:`list`/:obj:`tuple`): The extrema of values the model parameters\n",
       "        are allowed to reach in the fit.\n",
       "        The shape should be ``(n, 2)`` for ``n`` model parameters.\n",
       "    fixed_params (:obj:`list` of :obj:`bool`): The flag to set a parameter constant to its starting\n",
       "        value during minimization.\n",
       "    kwargs: Keyword arguments passed through to the optimizer API\n",
       "\n",
       "Returns:\n",
       "    See optimizer API\n",
       "\u001b[0;31mFile:\u001b[0m      /work/gallim/anaconda3/envs/stats-studies/lib/python3.9/site-packages/pyhf/infer/mle.py\n",
       "\u001b[0;31mType:\u001b[0m      function\n"
      ]
     },
     "metadata": {},
     "output_type": "display_data"
    }
   ],
   "source": [
    "pyhf.infer.mle.fit?"
   ]
  },
  {
   "cell_type": "code",
   "execution_count": null,
   "id": "e1fc4e2e-48d0-479d-a797-2becd36df763",
   "metadata": {},
   "outputs": [],
   "source": []
  }
 ],
 "metadata": {
  "kernelspec": {
   "display_name": "Python 3 (ipykernel)",
   "language": "python",
   "name": "python3"
  },
  "language_info": {
   "codemirror_mode": {
    "name": "ipython",
    "version": 3
   },
   "file_extension": ".py",
   "mimetype": "text/x-python",
   "name": "python",
   "nbconvert_exporter": "python",
   "pygments_lexer": "ipython3",
   "version": "3.9.6"
  }
 },
 "nbformat": 4,
 "nbformat_minor": 5
}
