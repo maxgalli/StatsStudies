{
 "cells": [
  {
   "cell_type": "code",
   "execution_count": 1,
   "id": "c8ac89ea-84c0-4f4f-8448-c807842c7a0b",
   "metadata": {},
   "outputs": [
    {
     "name": "stderr",
     "output_type": "stream",
     "text": [
      "/work/gallim/anaconda3/envs/stats-studies/lib/python3.9/site-packages/uproot/reading.py:186: FutureWarning: XRootD 5.1.1 is not fully supported; either upgrade to 5.2.0+ or set\n",
      "\n",
      "    open.defaults[\"xrootd_handler\"] = uproot.MultithreadedXRootDSource\n",
      "\n",
      "  warnings.warn(message, FutureWarning)\n"
     ]
    }
   ],
   "source": [
    "import os\n",
    "os.environ[\"ZFIT_DISABLE_TF_WARNINGS\"] = \"1\"\n",
    "import zfit\n",
    "import matplotlib.pyplot as plt\n",
    "import numpy as np\n",
    "from hepstats.hypotests.parameters import POI\n",
    "from hepstats.hypotests.calculators import AsymptoticCalculator, FrequentistCalculator\n",
    "from hepstats.hypotests import Discovery\n",
    "import json"
   ]
  },
  {
   "cell_type": "code",
   "execution_count": 2,
   "id": "5ab0e6a6-a74f-4034-afb5-97136bbd9627",
   "metadata": {},
   "outputs": [],
   "source": [
    "# Use as input the same json file already created for the pyhf part\n",
    "info = json.load(open(\"datacard_part1.json\"))"
   ]
  },
  {
   "cell_type": "markdown",
   "id": "6d96aaab-c0ca-4f8e-aa21-53ad3984360a",
   "metadata": {},
   "source": [
    "This is a simple example of counting experiment.\n",
    "\n",
    "First of all, let's take a look at the uncertainties we have: for all the nuisance parameters they are **normsys**, while the POI ($mu$, or $r$ in Combine) is of the **normfactor** type. The meaning is explained in the HistFactory document.\n",
    "\n",
    "As can be seen in the PyHF documentation and tutorials, **normsys** indicates a *constrained* scaling parameter controlled by a single nuisance parameter, while **normfactor** is the same, but *unconstrained*."
   ]
  },
  {
   "cell_type": "code",
   "execution_count": 3,
   "id": "1fb5ca9f-14f5-45e9-b3ff-80c4e5b0d814",
   "metadata": {},
   "outputs": [
    {
     "name": "stdout",
     "output_type": "stream",
     "text": [
      "{'bbHtautau': {'unc': {'CMS_eff_b': 0.014221280000000003, 'CMS_eff_t': 0.08532768000000013, 'CMS_eff_t_highpt': 0.07110640000000001, 'acceptance_bbH': 0.03555320000000006}, 'value': 0.711064}}\n",
      "{'ttbar': {'unc': {'CMS_eff_b': 0.08876060000000052, 'CMS_eff_t': 0.5325636000000005, 'CMS_eff_t_highpt': 0.44380300000000084, 'acceptance_ttbar': 0.022190149999999242}, 'value': 4.43803}, 'diboson': {'unc': {'CMS_eff_b': 0.06366180000000021, 'CMS_eff_t': 0.3819708000000004, 'CMS_eff_t_highpt': 0.3183090000000002, 'xsec_diboson': 0.1591545000000001}, 'value': 3.18309}, 'Ztautau': {'unc': {'CMS_eff_b': 0.0756079999999999, 'CMS_eff_t': 0.4536480000000003, 'CMS_eff_t_highpt': 0.3780400000000004, 'acceptance_Ztautau': 0.3024320000000005}, 'value': 3.7804}, 'jetFakes': {'unc': {'norm_jetFakes': 0.32679199999999997}, 'value': 1.63396}}\n"
     ]
    }
   ],
   "source": [
    "# Good starting point: https://github.com/scikit-hep/hepstats/blob/master/notebooks/hypotests/counting.ipynb\n",
    "\n",
    "signal = {\n",
    "    \"bbHtautau\": {\n",
    "        \"unc\": {}\n",
    "    }\n",
    "}\n",
    "bkgs = {\n",
    "    \"ttbar\": {\n",
    "        \"unc\": {}\n",
    "    }, \n",
    "    \"diboson\": {\n",
    "        \"unc\": {}\n",
    "    }, \n",
    "    \"Ztautau\": {\n",
    "        \"unc\": {}\n",
    "    }, \n",
    "    \"jetFakes\": {\n",
    "        \"unc\": {}\n",
    "    }\n",
    "}\n",
    "\n",
    "for sample in info[\"channels\"][0][\"samples\"]:\n",
    "    if sample[\"name\"] in signal:\n",
    "        signal[sample[\"name\"]][\"value\"] = sample[\"data\"][0]\n",
    "        for modifier in sample[\"modifiers\"]:\n",
    "            if modifier[\"data\"]:\n",
    "                signal[sample[\"name\"]][\"unc\"][modifier[\"name\"]] = modifier[\"data\"][\"hi\"] * sample[\"data\"][0] - sample[\"data\"][0]\n",
    "    elif sample[\"name\"] in bkgs:\n",
    "        bkgs[sample[\"name\"]][\"value\"] = sample[\"data\"][0]\n",
    "        for modifier in sample[\"modifiers\"]:\n",
    "            if modifier[\"data\"]:\n",
    "                bkgs[sample[\"name\"]][\"unc\"][modifier[\"name\"]] = modifier[\"data\"][\"hi\"] * sample[\"data\"][0] - sample[\"data\"][0]\n",
    "        \n",
    "obs = info[\"observations\"][0][\"data\"][0]\n",
    "\n",
    "print(signal)\n",
    "print(bkgs)"
   ]
  },
  {
   "cell_type": "code",
   "execution_count": 4,
   "id": "b1e1d675-6621-4c2b-950f-3dfbad009cd9",
   "metadata": {},
   "outputs": [],
   "source": [
    "# How can constraints be implemented?"
   ]
  },
  {
   "cell_type": "code",
   "execution_count": 5,
   "id": "3823c0f3-cbfd-45ec-94fc-cb19e935ab52",
   "metadata": {},
   "outputs": [],
   "source": [
    "N_sig = zfit.Parameter(\"N_sig\", signal[\"bbHtautau\"][\"value\"], 0, 10)\n",
    "N_ttbar = zfit.Parameter(\"N_ttbar\", bkgs[\"ttbar\"][\"value\"], 0, 10)\n",
    "N_diboson = zfit.Parameter(\"N_diboson\", bkgs[\"diboson\"][\"value\"], 0, 10)\n",
    "N_Ztautau = zfit.Parameter(\"N_Ztautau\", bkgs[\"Ztautau\"][\"value\"], 0, 10)\n",
    "N_jetFakes = zfit.Parameter(\"N_jetFakes\", bkgs[\"jetFakes\"][\"value\"], 0, 10)\n",
    "\n",
    "N_obs = zfit.ComposedParameter(\n",
    "    \"N_obs\", \n",
    "    lambda sig, b1, b2, b3, b4: sig + b1 + b2 + b3 + b4,\n",
    "    params = [N_sig, N_ttbar, N_diboson, N_Ztautau, N_jetFakes]\n",
    ")"
   ]
  },
  {
   "cell_type": "code",
   "execution_count": 6,
   "id": "b3978494-6295-485e-96b1-d01e0da41457",
   "metadata": {},
   "outputs": [],
   "source": [
    "observable = zfit.Space(\"N\", limits=(0, 20))"
   ]
  },
  {
   "cell_type": "code",
   "execution_count": 7,
   "id": "c4252c73-02d4-462e-8342-d16c93e5d99b",
   "metadata": {},
   "outputs": [],
   "source": [
    "data = zfit.data.Data.from_numpy(obs=observable, array=np.array([obs]))"
   ]
  },
  {
   "cell_type": "code",
   "execution_count": 8,
   "id": "536b51f4-cc98-4521-bc06-62ef1a08cb6f",
   "metadata": {},
   "outputs": [],
   "source": [
    "# signal pdf and constraints definition\n",
    "\n",
    "#pdf_sig = zfit.pdf.Poisson(obs=observable, lamb=N_sig)\n",
    "#sig_constraint = []\n",
    "#for constr in signal[\"bbHtautau\"][\"unc\"].values():\n",
    "    #sig_constraint.append(zfit.constraint.GaussianConstraint(N_sig, observation=signal[\"bbHtautau\"][\"value\"], uncertainty=constr))"
   ]
  },
  {
   "cell_type": "code",
   "execution_count": 9,
   "id": "fd060f26-2b68-4082-a0fa-c37947966615",
   "metadata": {},
   "outputs": [],
   "source": [
    "#pdf_ttbar = zfit.pdf.Poisson(obs=observable, lamb=N_ttbar)\n",
    "#pdf_diboson = zfit.pdf.Poisson(obs=observable, lamb=N_diboson)\n",
    "#pdf_Ztautau = zfit.pdf.Poisson(obs=observable, lamb=N_Ztautau)\n",
    "#pdf_jetFakes = zfit.pdf.Poisson(obs=observable, lamb=N_jetFakes)\n",
    "\n",
    "#model = zfit.pdf.ProductPDF(pdfs=[pdf_sig, pdf_ttbar, pdf_diboson, pdf_Ztautau, pdf_jetFakes])"
   ]
  },
  {
   "cell_type": "code",
   "execution_count": 10,
   "id": "ad562b44-17b0-4b9e-b62d-b9dab8820c46",
   "metadata": {},
   "outputs": [],
   "source": [
    "model = zfit.pdf.Poisson(obs=observable, lamb=N_obs)"
   ]
  },
  {
   "cell_type": "code",
   "execution_count": 11,
   "id": "0cbd1837-da1a-47ca-8867-437d48284445",
   "metadata": {},
   "outputs": [
    {
     "name": "stdout",
     "output_type": "stream",
     "text": [
      "FitResult of\n",
      "<UnbinnedNLL model=[<zfit.<class 'zfit.models.dist_tfp.Poisson'>  params=[N_obs]] data=[<zfit.core.data.Data object at 0x7f20104a6d30>] constraints=[]> \n",
      "with\n",
      "<Minuit Minuit tol=0.001>\n",
      "\n",
      "╒═════════╤═════════════╤══════════════════╤═════════╤═════════════╕\n",
      "│ valid   │ converged   │ param at limit   │ edm     │ min value   │\n",
      "╞═════════╪═════════════╪══════════════════╪═════════╪═════════════╡\n",
      "│ True    │ True        │ False            │ 1.4e-05 │ 999.5       │\n",
      "╘═════════╧═════════════╧══════════════════╧═════════╧═════════════╛\n",
      "\n",
      "Parameters\n",
      "name          value    at limit\n",
      "----------  -------  ----------\n",
      "N_sig        0.5091       False\n",
      "N_ttbar       3.201       False\n",
      "N_diboson     2.339       False\n",
      "N_Ztautau     2.765       False\n",
      "N_jetFakes    1.188       False\n"
     ]
    }
   ],
   "source": [
    "# likelihood function\n",
    "nll = zfit.loss.UnbinnedNLL(model=model, data=data)\n",
    "\n",
    "# Instantiate a minuit minimizer\n",
    "minimizer = zfit.minimize.Minuit()\n",
    "\n",
    "# minimisation of the loss function\n",
    "minimum = minimizer.minimize(loss=nll)\n",
    "print(minimum)"
   ]
  },
  {
   "cell_type": "code",
   "execution_count": null,
   "id": "20af7662-07ca-4353-9ab9-4f89877838c7",
   "metadata": {},
   "outputs": [],
   "source": []
  }
 ],
 "metadata": {
  "kernelspec": {
   "display_name": "Python 3 (ipykernel)",
   "language": "python",
   "name": "python3"
  },
  "language_info": {
   "codemirror_mode": {
    "name": "ipython",
    "version": 3
   },
   "file_extension": ".py",
   "mimetype": "text/x-python",
   "name": "python",
   "nbconvert_exporter": "python",
   "pygments_lexer": "ipython3",
   "version": "3.9.6"
  }
 },
 "nbformat": 4,
 "nbformat_minor": 5
}
