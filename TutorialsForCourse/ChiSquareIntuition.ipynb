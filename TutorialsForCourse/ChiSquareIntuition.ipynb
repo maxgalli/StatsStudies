{
 "cells": [
  {
   "cell_type": "code",
   "execution_count": 15,
   "metadata": {},
   "outputs": [],
   "source": [
    "import numpy as np\n",
    "import matplotlib.pyplot as plt\n",
    "from ipywidgets import interact\n",
    "import ipywidgets as widgets\n",
    "%matplotlib widget"
   ]
  },
  {
   "cell_type": "code",
   "execution_count": 12,
   "metadata": {},
   "outputs": [],
   "source": [
    "def straight_line(x, m):\n",
    "    return m * x\n",
    "\n",
    "n_sample = 30\n",
    "true_m = 2\n",
    "x = np.linspace(0, 10, n_sample)\n",
    "data = np.array([x, straight_line(x, true_m)])\n",
    "\n",
    "# add some noise\n",
    "noise = np.random.normal(0, 0.3, n_sample)\n",
    "data[1] += noise"
   ]
  },
  {
   "cell_type": "code",
   "execution_count": 13,
   "metadata": {},
   "outputs": [
    {
     "data": {
      "text/plain": [
       "[<matplotlib.lines.Line2D at 0x1144db4f0>]"
      ]
     },
     "execution_count": 13,
     "metadata": {},
     "output_type": "execute_result"
    },
    {
     "data": {
      "image/png": "[encoded data removed]",
      "text/plain": [
       "<Figure size 432x288 with 1 Axes>"
      ]
     },
     "metadata": {
      "needs_background": "light"
     },
     "output_type": "display_data"
    }
   ],
   "source": [
    "# plot the data\n",
    "plt.plot(x, data[1], 'o')"
   ]
  },
  {
   "cell_type": "code",
   "execution_count": 14,
   "metadata": {},
   "outputs": [],
   "source": [
    "def chi_square(data, function, *parameters):\n",
    "    # x = data[0], y = data[1]\n",
    "    # calculate the model\n",
    "    model = function(data[0], *parameters)\n",
    "\n",
    "    # calculate the chi-square value\n",
    "    chi_square_value = np.sum((data[1] - model)**2)\n",
    "\n",
    "    return chi_square_value"
   ]
  },
  {
   "cell_type": "code",
   "execution_count": 42,
   "metadata": {},
   "outputs": [
    {
     "data": {
      "application/vnd.jupyter.widget-view+json": {
       "model_id": "0ee3b25136e4429ea5ff6f2d68c867bd",
       "version_major": 2,
       "version_minor": 0
      },
      "text/plain": [
       "Canvas(toolbar=Toolbar(toolitems=[('Home', 'Reset original view', 'home', 'home'), ('Back', 'Back to previous …"
      ]
     },
     "metadata": {},
     "output_type": "display_data"
    },
    {
     "data": {
      "application/vnd.jupyter.widget-view+json": {
       "model_id": "eaa9fe35e4f74c7d99321b62ff19c330",
       "version_major": 2,
       "version_minor": 0
      },
      "text/plain": [
       "interactive(children=(FloatSlider(value=2.0, description='m', max=3.0, min=1.0, step=0.01), Output()), _dom_cl…"
      ]
     },
     "metadata": {},
     "output_type": "display_data"
    }
   ],
   "source": [
    "fig, axes = plt.subplots(nrows=1, ncols=2, figsize=(10, 5))\n",
    "\n",
    "@interact(m=widgets.FloatSlider(min=1, max=3, step=0.01, value=2))\n",
    "def draw(m):\n",
    "    # calculate the chi-square value\n",
    "    chi_square_value = chi_square(data, straight_line, m)\n",
    "\n",
    "    # plot the data\n",
    "    axes[0].clear()\n",
    "    axes[0].plot(x, data[1], 'ko')\n",
    "    axes[0].plot(x, straight_line(x, m), 'r-')\n",
    "\n",
    "    # plot chi-square\n",
    "    axes[1].plot(m, chi_square_value, 'bo')\n",
    "\n",
    "    # show the plot and decorate\n",
    "    axes[0].annotate('$\\chi^2$ = {:.2f}'.format(chi_square_value), (0.01, 0.95), xycoords='axes fraction')\n",
    "    axes[0].set_xlim(-1, 11)\n",
    "    axes[0].set_ylim(-1, 30)\n",
    "    axes[0].set_xlabel('x')\n",
    "    axes[0].set_ylabel('y')\n",
    "    axes[1].set_xlim(1, 3)\n",
    "    axes[1].set_ylim(0, 1000)\n",
    "    axes[1].set_xlabel('m')\n",
    "    axes[1].set_ylabel('$\\chi^{2}$')\n",
    "\n",
    "    plt.show();"
   ]
  },
  {
   "cell_type": "code",
   "execution_count": null,
   "metadata": {},
   "outputs": [],
   "source": []
  }
 ],
 "metadata": {
  "interpreter": {
   "hash": "69ca9f6dd25aad5fc7b31625bcfbde310e390cf4c052d14668182af17b0fee34"
  },
  "kernelspec": {
   "display_name": "Python 3.9.9 64-bit ('stats-studies': conda)",
   "language": "python",
   "name": "python3"
  },
  "language_info": {
   "codemirror_mode": {
    "name": "ipython",
    "version": 3
   },
   "file_extension": ".py",
   "mimetype": "text/x-python",
   "name": "python",
   "nbconvert_exporter": "python",
   "pygments_lexer": "ipython3",
   "version": "3.9.9"
  },
  "orig_nbformat": 4
 },
 "nbformat": 4,
 "nbformat_minor": 2
}
