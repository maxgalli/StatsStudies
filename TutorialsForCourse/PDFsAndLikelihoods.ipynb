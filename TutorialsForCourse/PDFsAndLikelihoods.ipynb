{
 "cells": [
  {
   "cell_type": "markdown",
   "metadata": {},
   "source": [
    "# Distributions, PDFs and Likelihoods\n",
    "\n",
    "In this part we will introduce three tools that are the basics of statistics: distributions (discrete or continuous), probability distribution functions (PDFs) and likelihoods (+ negative log likelihoods).\n",
    "\n",
    "Useful links:\n",
    "- [Intro to Probability Distributions and Distribution Fitting with Python's SciPy](https://towardsdatascience.com/probability-distributions-with-pythons-scipy-3da89bf60565)"
   ]
  },
  {
   "cell_type": "code",
   "execution_count": 2,
   "metadata": {},
   "outputs": [],
   "source": [
    "import matplotlib.pyplot as plt\n",
    "import numpy as np\n",
    "from scipy.stats import rv_continuous, norm\n",
    "from scipy.integrate import quad\n",
    "from dataclasses import dataclass"
   ]
  },
  {
   "cell_type": "code",
   "execution_count": 3,
   "metadata": {},
   "outputs": [],
   "source": [
    "from ipywidgets import interact\n",
    "import ipywidgets as widgets\n",
    "%matplotlib widget"
   ]
  },
  {
   "cell_type": "code",
   "execution_count": 4,
   "metadata": {},
   "outputs": [
    {
     "data": {
      "application/vnd.jupyter.widget-view+json": {
       "model_id": "75dd7098c01f4f3a9134deb44baef50a",
       "version_major": 2,
       "version_minor": 0
      },
      "text/plain": [
       "Canvas(toolbar=Toolbar(toolitems=[('Home', 'Reset original view', 'home', 'home'), ('Back', 'Back to previous …"
      ]
     },
     "metadata": {},
     "output_type": "display_data"
    },
    {
     "data": {
      "application/vnd.jupyter.widget-view+json": {
       "model_id": "0976d489f4a346fcae3843f1e24f15ee",
       "version_major": 2,
       "version_minor": 0
      },
      "text/plain": [
       "interactive(children=(FloatSlider(value=10.0, description='mean', max=20.0, step=1.0), FloatSlider(value=5.0, …"
      ]
     },
     "metadata": {},
     "output_type": "display_data"
    }
   ],
   "source": [
    "events = 10000\n",
    "\n",
    "fig, ax = plt.subplots(1, 1)\n",
    "\n",
    "@interact(mean=widgets.FloatSlider(min=0, max=20, step=1, value=10), std=widgets.FloatSlider(min=0, max=10, step=0.1, value=5))\n",
    "def plot_distribution(mean, std):\n",
    "    ax.clear()\n",
    "    ax.set_xlim(-10, 30)\n",
    "    ax.set_ylim(0, 0.2)\n",
    "    data = norm.rvs(mean, std, size=events)\n",
    "    ax.hist(data, bins=100, density=True);"
   ]
  },
  {
   "cell_type": "code",
   "execution_count": 24,
   "metadata": {},
   "outputs": [
    {
     "data": {
      "application/vnd.jupyter.widget-view+json": {
       "model_id": "8d2752aada9d454094be4f9cd08717aa",
       "version_major": 2,
       "version_minor": 0
      },
      "text/plain": [
       "Canvas(toolbar=Toolbar(toolitems=[('Home', 'Reset original view', 'home', 'home'), ('Back', 'Back to previous …"
      ]
     },
     "metadata": {},
     "output_type": "display_data"
    },
    {
     "data": {
      "application/vnd.jupyter.widget-view+json": {
       "model_id": "1970ef1a84354ab6bc407607878d4a5a",
       "version_major": 2,
       "version_minor": 0
      },
      "text/plain": [
       "interactive(children=(FloatSlider(value=-20.0, description='left', max=0.0, min=-20.0), FloatSlider(value=20.0…"
      ]
     },
     "metadata": {},
     "output_type": "display_data"
    }
   ],
   "source": [
    "mean = 0\n",
    "std = 5\n",
    "min_x = -20\n",
    "max_x = 20\n",
    "\n",
    "fig, (ax1, ax2) = plt.subplots(2, 1, figsize=(6, 6), sharex=True)\n",
    "\n",
    "@interact(left=widgets.FloatSlider(min=min_x, max=mean, step=0.1, value=min_x), right=widgets.FloatSlider(min=mean, max=max_x, step=0.1, value=max_x))\n",
    "def update_integral(left, right):\n",
    "    frozen = norm(loc=mean, scale=std)\n",
    "    x = np.linspace(min_x, max_x, 10000)\n",
    "    fx = frozen.pdf(x)\n",
    "    Fx = frozen.cdf(x)\n",
    "    res, err = quad(frozen.pdf, left, right)\n",
    "    ax1.clear()\n",
    "    ax2.clear()\n",
    "    ax1.set_xlim(min_x, max_x)\n",
    "    ax2.set_xlim(min_x, max_x)\n",
    "    ax2.set_xlabel('x')\n",
    "    ax1.set_ylabel('f(x)')\n",
    "    ax2.set_ylabel('F(x)')\n",
    "    ax1.plot(x, fx, 'k-')\n",
    "    ptx = np.linspace(left, right, 100)\n",
    "    ax1.fill_between(ptx, frozen.pdf(ptx), color='lightblue')\n",
    "    ax1.text(0.2, 0.9, 'P[{:.2f}, {:.2f}] = {:.2f}'.format(left, right, res), horizontalalignment='center', verticalalignment='center', transform=ax1.transAxes)\n",
    "    ax2.plot(x, Fx, 'k-')\n",
    "    ax2.hlines(frozen.cdf(left), min_x, left, color='r', linestyle='--')\n",
    "    ax2.hlines(frozen.cdf(right), min_x, right, color='r', linestyle='--')\n",
    "    ax2.vlines(left, 0, frozen.cdf(left), color='r', linestyle='--')\n",
    "    ax2.vlines(right, 0, frozen.cdf(right), color='r', linestyle='--')"
   ]
  },
  {
   "cell_type": "code",
   "execution_count": 22,
   "metadata": {},
   "outputs": [],
   "source": [
    "@dataclass\n",
    "class Likelihood:\n",
    "    distribution: rv_continuous\n",
    "    data: np.ndarray\n",
    "\n",
    "    def __call__(self, *params):\n",
    "        return np.prod(np.array([self.distribution.pdf(x, *params) for x in self.data]))\n",
    "\n",
    "class NLL(Likelihood):\n",
    "    def __call__(self, *params):\n",
    "        return -np.sum(np.array([np.log(self.distribution.pdf(x, *params)) for x in self.data]))"
   ]
  },
  {
   "cell_type": "code",
   "execution_count": 39,
   "metadata": {},
   "outputs": [
    {
     "data": {
      "application/vnd.jupyter.widget-view+json": {
       "model_id": "8c7a1e52e3ec4737ab73340a649e1748",
       "version_major": 2,
       "version_minor": 0
      },
      "text/plain": [
       "Canvas(toolbar=Toolbar(toolitems=[('Home', 'Reset original view', 'home', 'home'), ('Back', 'Back to previous …"
      ]
     },
     "metadata": {},
     "output_type": "display_data"
    },
    {
     "data": {
      "application/vnd.jupyter.widget-view+json": {
       "model_id": "53dd7c41b93840888d2481a89b75f81c",
       "version_major": 2,
       "version_minor": 0
      },
      "text/plain": [
       "interactive(children=(FloatSlider(value=10.0, description='mean', max=20.0, step=1.0), FloatSlider(value=5.0, …"
      ]
     },
     "metadata": {},
     "output_type": "display_data"
    }
   ],
   "source": [
    "mean = 10\n",
    "std = 5\n",
    "min_x = -10\n",
    "max_x = 30\n",
    "\n",
    "x = np.linspace(min_x, max_x, 1000) # sample x axis\n",
    "\n",
    "fake_single_data = np.array([mean + 0.01 * mean])\n",
    "norm_likelihood = Likelihood(norm, fake_single_data)\n",
    "\n",
    "fig, ax = plt.subplots()\n",
    "\n",
    "@interact(mean=widgets.FloatSlider(min=0, max=20, step=1, value=10), std=widgets.FloatSlider(min=4.5, max=8, step=0.1, value=5))\n",
    "def plot_pdf(mean, std):\n",
    "    lk_value = norm_likelihood(mean, std)\n",
    "    ax.clear()\n",
    "    ax.set_xlim(min_x, max_x)\n",
    "    ax.set_ylim(-0.01, 0.09)\n",
    "    ax.plot(x, norm.pdf(x, mean, std), 'r-')\n",
    "    ax.plot(fake_single_data, 0, 'o', color='#0b559f', markersize=10)\n",
    "    ax.plot(fake_single_data, lk_value, 'o', color='#0b559f', markersize=10)\n",
    "    ax.hlines(lk_value, min_x, fake_single_data[0], color='black', linestyle='dashed', alpha=0.5)\n",
    "    ax.vlines(fake_single_data[0], 0, lk_value, color='black', linestyle='dashed', alpha=0.5)\n",
    "    ax.set_xlabel('x')\n",
    "    ax.set_ylabel('$L(\\mu,\\sigma | x)$')"
   ]
  },
  {
   "cell_type": "code",
   "execution_count": null,
   "metadata": {},
   "outputs": [],
   "source": []
  }
 ],
 "metadata": {
  "interpreter": {
   "hash": "977b4b0500dc0f1eeb396653a2d6a006779ae18ccfac5cdd518020df4f07322a"
  },
  "kernelspec": {
   "display_name": "Python 3 (ipykernel)",
   "language": "python",
   "name": "python3"
  },
  "language_info": {
   "codemirror_mode": {
    "name": "ipython",
    "version": 3
   },
   "file_extension": ".py",
   "mimetype": "text/x-python",
   "name": "python",
   "nbconvert_exporter": "python",
   "pygments_lexer": "ipython3",
   "version": "3.9.9"
  }
 },
 "nbformat": 4,
 "nbformat_minor": 4
}
